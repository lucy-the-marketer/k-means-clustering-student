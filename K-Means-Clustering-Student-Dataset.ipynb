{
 "cells": [
  {
   "cell_type": "markdown",
   "metadata": {},
   "source": [
    "## K-Means Clustering Exercise 2\n",
    "\n",
    "#### Student data analysis"
   ]
  },
  {
   "cell_type": "code",
   "execution_count": null,
   "metadata": {
    "slideshow": {
     "slide_type": "-"
    }
   },
   "outputs": [],
   "source": [
    "# import pandas\n",
    "\n",
    "\n",
    "# load the file using the read_excel() function\n",
    "\n",
    "\n",
    "# show the first few records\n"
   ]
  },
  {
   "cell_type": "code",
   "execution_count": null,
   "metadata": {
    "scrolled": true
   },
   "outputs": [],
   "source": [
    "# group the dataframe by 'Name' and calculate the mean values\n",
    "\n",
    "\n",
    "# show the first few records\n"
   ]
  },
  {
   "cell_type": "code",
   "execution_count": null,
   "metadata": {},
   "outputs": [],
   "source": [
    "# create the clusterer with K = 3\n",
    "\n",
    "# plot the scatters and label them\n",
    "\n",
    "# label each data point with student's name\n",
    "\n",
    "plt.show()"
   ]
  },
  {
   "cell_type": "code",
   "execution_count": null,
   "metadata": {
    "slideshow": {
     "slide_type": "subslide"
    }
   },
   "outputs": [],
   "source": [
    "# normalize with MinMaxScaler()\n",
    "\n",
    "# create cluster with K=3 and plot"
   ]
  },
  {
   "cell_type": "markdown",
   "metadata": {},
   "source": [
    "#### Hierarchical Clustering"
   ]
  },
  {
   "cell_type": "code",
   "execution_count": null,
   "metadata": {},
   "outputs": [],
   "source": [
    "# single link, complete link, group average\n",
    "\n",
    "# set figure\n",
    "\n",
    "# add subplot using subplot() function and assign return value to variable named y_axis\n",
    "# use the sharey parameter to pass this variable to all calls to the subplot so all plots use the same y-axis\n",
    "\n",
    "# repeat creation of all linkage modes\n",
    "\n",
    "    # add subplot (sharing y-axis)\n",
    "    \n",
    "    # labeling\n",
    "    \n",
    "    # clustering\n",
    "    \n",
    "    # dendrogram\n",
    "\n",
    "# show the plot\n",
    "\n"
   ]
  }
 ],
 "metadata": {
  "celltoolbar": "Slideshow",
  "kernelspec": {
   "display_name": "Python 3",
   "language": "python",
   "name": "python3"
  },
  "language_info": {
   "codemirror_mode": {
    "name": "ipython",
    "version": 3
   },
   "file_extension": ".py",
   "mimetype": "text/x-python",
   "name": "python",
   "nbconvert_exporter": "python",
   "pygments_lexer": "ipython3",
   "version": "3.8.5"
  }
 },
 "nbformat": 4,
 "nbformat_minor": 2
}
